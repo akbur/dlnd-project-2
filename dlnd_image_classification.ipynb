{
 "cells": [
  {
   "cell_type": "markdown",
   "metadata": {
    "collapsed": true
   },
   "source": [
    "# Image Classification\n",
    "In this project, you'll classify images from the [CIFAR-10 dataset](https://www.cs.toronto.edu/~kriz/cifar.html).  The dataset consists of airplanes, dogs, cats, and other objects. You'll preprocess the images, then train a convolutional neural network on all the samples. The images need to be normalized and the labels need to be one-hot encoded.  You'll get to apply what you learned and build a convolutional, max pooling, dropout, and fully connected layers.  At the end, you'll get to see your neural network's predictions on the sample images.\n",
    "## Get the Data\n",
    "Run the following cell to download the [CIFAR-10 dataset for python](https://www.cs.toronto.edu/~kriz/cifar-10-python.tar.gz)."
   ]
  },
  {
   "cell_type": "code",
   "execution_count": 1,
   "metadata": {},
   "outputs": [
    {
     "name": "stdout",
     "output_type": "stream",
     "text": [
      "All files found!\n"
     ]
    }
   ],
   "source": [
    "\"\"\"\n",
    "DON'T MODIFY ANYTHING IN THIS CELL THAT IS BELOW THIS LINE\n",
    "\"\"\"\n",
    "from urllib.request import urlretrieve\n",
    "from os.path import isfile, isdir\n",
    "from tqdm import tqdm\n",
    "import problem_unittests as tests\n",
    "import tarfile\n",
    "\n",
    "cifar10_dataset_folder_path = 'cifar-10-batches-py'\n",
    "\n",
    "# Use Floyd's cifar-10 dataset if present\n",
    "floyd_cifar10_location = '/input/cifar-10/python.tar.gz'\n",
    "if isfile(floyd_cifar10_location):\n",
    "    tar_gz_path = floyd_cifar10_location\n",
    "else:\n",
    "    tar_gz_path = 'cifar-10-python.tar.gz'\n",
    "\n",
    "class DLProgress(tqdm):\n",
    "    last_block = 0\n",
    "\n",
    "    def hook(self, block_num=1, block_size=1, total_size=None):\n",
    "        self.total = total_size\n",
    "        self.update((block_num - self.last_block) * block_size)\n",
    "        self.last_block = block_num\n",
    "\n",
    "if not isfile(tar_gz_path):\n",
    "    with DLProgress(unit='B', unit_scale=True, miniters=1, desc='CIFAR-10 Dataset') as pbar:\n",
    "        urlretrieve(\n",
    "            'https://www.cs.toronto.edu/~kriz/cifar-10-python.tar.gz',\n",
    "            tar_gz_path,\n",
    "            pbar.hook)\n",
    "\n",
    "if not isdir(cifar10_dataset_folder_path):\n",
    "    with tarfile.open(tar_gz_path) as tar:\n",
    "        tar.extractall()\n",
    "        tar.close()\n",
    "\n",
    "\n",
    "tests.test_folder_path(cifar10_dataset_folder_path)"
   ]
  },
  {
   "cell_type": "markdown",
   "metadata": {},
   "source": [
    "## Explore the Data\n",
    "The dataset is broken into batches to prevent your machine from running out of memory.  The CIFAR-10 dataset consists of 5 batches, named `data_batch_1`, `data_batch_2`, etc.. Each batch contains the labels and images that are one of the following:\n",
    "* airplane\n",
    "* automobile\n",
    "* bird\n",
    "* cat\n",
    "* deer\n",
    "* dog\n",
    "* frog\n",
    "* horse\n",
    "* ship\n",
    "* truck\n",
    "\n",
    "Understanding a dataset is part of making predictions on the data.  Play around with the code cell below by changing the `batch_id` and `sample_id`. The `batch_id` is the id for a batch (1-5). The `sample_id` is the id for a image and label pair in the batch.\n",
    "\n",
    "Ask yourself \"What are all possible labels?\", \"What is the range of values for the image data?\", \"Are the labels in order or random?\".  Answers to questions like these will help you preprocess the data and end up with better predictions."
   ]
  },
  {
   "cell_type": "code",
   "execution_count": 2,
   "metadata": {},
   "outputs": [
    {
     "name": "stdout",
     "output_type": "stream",
     "text": [
      "\n",
      "Stats of batch 2:\n",
      "Samples: 10000\n",
      "Label Counts: {0: 984, 1: 1007, 2: 1010, 3: 995, 4: 1010, 5: 988, 6: 1008, 7: 1026, 8: 987, 9: 985}\n",
      "First 20 Labels: [1, 6, 6, 8, 8, 3, 4, 6, 0, 6, 0, 3, 6, 6, 5, 4, 8, 3, 2, 6]\n",
      "\n",
      "Example of Image 30:\n",
      "Image - Min Value: 7 Max Value: 255\n",
      "Image - Shape: (32, 32, 3)\n",
      "Label - Label Id: 9 Name: truck\n"
     ]
    },
    {
     "data": {
      "image/png": "[encoded data removed]",
      "text/plain": [
       "<matplotlib.figure.Figure at 0x1199aa358>"
      ]
     },
     "metadata": {
      "image/png": {
       "height": 250,
       "width": 253
      }
     },
     "output_type": "display_data"
    }
   ],
   "source": [
    "%matplotlib inline\n",
    "%config InlineBackend.figure_format = 'retina'\n",
    "\n",
    "import helper\n",
    "import numpy as np\n",
    "\n",
    "# Explore the dataset\n",
    "batch_id = 2\n",
    "sample_id = 30\n",
    "helper.display_stats(cifar10_dataset_folder_path, batch_id, sample_id)"
   ]
  },
  {
   "cell_type": "markdown",
   "metadata": {},
   "source": [
    "## Implement Preprocess Functions\n",
    "### Normalize\n",
    "In the cell below, implement the `normalize` function to take in image data, `x`, and return it as a normalized Numpy array. The values should be in the range of 0 to 1, inclusive.  The return object should be the same shape as `x`."
   ]
  },
  {
   "cell_type": "code",
   "execution_count": 3,
   "metadata": {},
   "outputs": [
    {
     "name": "stdout",
     "output_type": "stream",
     "text": [
      "Tests Passed\n"
     ]
    }
   ],
   "source": [
    "def normalize(x):\n",
    "    \"\"\"\n",
    "    Normalize a list of sample image data in the range of 0 to 1\n",
    "    : x: List of image data.  The image shape is (32, 32, 3)\n",
    "    : return: Numpy array of normalize data\n",
    "    \"\"\"\n",
    "    return x / np.max(x)\n",
    "\n",
    "\"\"\"\n",
    "DON'T MODIFY ANYTHING IN THIS CELL THAT IS BELOW THIS LINE\n",
    "\"\"\"\n",
    "tests.test_normalize(normalize)"
   ]
  },
  {
   "cell_type": "markdown",
   "metadata": {},
   "source": [
    "### One-hot encode\n",
    "Just like the previous code cell, you'll be implementing a function for preprocessing.  This time, you'll implement the `one_hot_encode` function. The input, `x`, are a list of labels.  Implement the function to return the list of labels as One-Hot encoded Numpy array.  The possible values for labels are 0 to 9. The one-hot encoding function should return the same encoding for each value between each call to `one_hot_encode`.  Make sure to save the map of encodings outside the function.\n",
    "\n",
    "Hint: Don't reinvent the wheel."
   ]
  },
  {
   "cell_type": "code",
   "execution_count": 4,
   "metadata": {},
   "outputs": [
    {
     "name": "stdout",
     "output_type": "stream",
     "text": [
      "Tests Passed\n"
     ]
    }
   ],
   "source": [
    "from sklearn.preprocessing import LabelBinarizer\n",
    "\n",
    "def one_hot_encode(x):\n",
    "    \"\"\"\n",
    "    One hot encode a list of sample labels. Return a one-hot encoded vector for each label.\n",
    "    : x: List of sample Labels\n",
    "    : return: Numpy array of one-hot encoded labels\n",
    "    \"\"\"\n",
    "    lb = LabelBinarizer()\n",
    "    lb.fit(x)\n",
    "    lb.classes_ = range(10)\n",
    "\n",
    "    return lb.transform(x)\n",
    "\n",
    "\n",
    "\"\"\"\n",
    "DON'T MODIFY ANYTHING IN THIS CELL THAT IS BELOW THIS LINE\n",
    "\"\"\"\n",
    "tests.test_one_hot_encode(one_hot_encode)"
   ]
  },
  {
   "cell_type": "markdown",
   "metadata": {},
   "source": [
    "### Randomize Data\n",
    "As you saw from exploring the data above, the order of the samples are randomized.  It doesn't hurt to randomize it again, but you don't need to for this dataset."
   ]
  },
  {
   "cell_type": "markdown",
   "metadata": {},
   "source": [
    "## Preprocess all the data and save it\n",
    "Running the code cell below will preprocess all the CIFAR-10 data and save it to file. The code below also uses 10% of the training data for validation."
   ]
  },
  {
   "cell_type": "code",
   "execution_count": 5,
   "metadata": {
    "collapsed": true
   },
   "outputs": [],
   "source": [
    "\"\"\"\n",
    "DON'T MODIFY ANYTHING IN THIS CELL\n",
    "\"\"\"\n",
    "# Preprocess Training, Validation, and Testing Data\n",
    "helper.preprocess_and_save_data(cifar10_dataset_folder_path, normalize, one_hot_encode)"
   ]
  },
  {
   "cell_type": "markdown",
   "metadata": {},
   "source": [
    "# Check Point\n",
    "This is your first checkpoint.  If you ever decide to come back to this notebook or have to restart the notebook, you can start from here.  The preprocessed data has been saved to disk."
   ]
  },
  {
   "cell_type": "code",
   "execution_count": 9,
   "metadata": {
    "collapsed": true
   },
   "outputs": [],
   "source": [
    "\"\"\"\n",
    "DON'T MODIFY ANYTHING IN THIS CELL\n",
    "\"\"\"\n",
    "import pickle\n",
    "import problem_unittests as tests\n",
    "import helper\n",
    "\n",
    "# Load the Preprocessed Validation data\n",
    "valid_features, valid_labels = pickle.load(open('preprocess_validation.p', mode='rb'))"
   ]
  },
  {
   "cell_type": "markdown",
   "metadata": {},
   "source": [
    "## Build the network\n",
    "For the neural network, you'll build each layer into a function.  Most of the code you've seen has been outside of functions. To test your code more thoroughly, we require that you put each layer in a function.  This allows us to give you better feedback and test for simple mistakes using our unittests before you submit your project.\n",
    "\n",
    ">**Note:** If you're finding it hard to dedicate enough time for this course each week, we've provided a small shortcut to this part of the project. In the next couple of problems, you'll have the option to use classes from the [TensorFlow Layers](https://www.tensorflow.org/api_docs/python/tf/layers) or [TensorFlow Layers (contrib)](https://www.tensorflow.org/api_guides/python/contrib.layers) packages to build each layer, except the layers you build in the \"Convolutional and Max Pooling Layer\" section.  TF Layers is similar to Keras's and TFLearn's abstraction to layers, so it's easy to pickup.\n",
    "\n",
    ">However, if you would like to get the most out of this course, try to solve all the problems _without_ using anything from the TF Layers packages. You **can** still use classes from other packages that happen to have the same name as ones you find in TF Layers! For example, instead of using the TF Layers version of the `conv2d` class, [tf.layers.conv2d](https://www.tensorflow.org/api_docs/python/tf/layers/conv2d), you would want to use the TF Neural Network version of `conv2d`, [tf.nn.conv2d](https://www.tensorflow.org/api_docs/python/tf/nn/conv2d). \n",
    "\n",
    "Let's begin!\n",
    "\n",
    "### Input\n",
    "The neural network needs to read the image data, one-hot encoded labels, and dropout keep probability. Implement the following functions\n",
    "* Implement `neural_net_image_input`\n",
    " * Return a [TF Placeholder](https://www.tensorflow.org/api_docs/python/tf/placeholder)\n",
    " * Set the shape using `image_shape` with batch size set to `None`.\n",
    " * Name the TensorFlow placeholder \"x\" using the TensorFlow `name` parameter in the [TF Placeholder](https://www.tensorflow.org/api_docs/python/tf/placeholder).\n",
    "* Implement `neural_net_label_input`\n",
    " * Return a [TF Placeholder](https://www.tensorflow.org/api_docs/python/tf/placeholder)\n",
    " * Set the shape using `n_classes` with batch size set to `None`.\n",
    " * Name the TensorFlow placeholder \"y\" using the TensorFlow `name` parameter in the [TF Placeholder](https://www.tensorflow.org/api_docs/python/tf/placeholder).\n",
    "* Implement `neural_net_keep_prob_input`\n",
    " * Return a [TF Placeholder](https://www.tensorflow.org/api_docs/python/tf/placeholder) for dropout keep probability.\n",
    " * Name the TensorFlow placeholder \"keep_prob\" using the TensorFlow `name` parameter in the [TF Placeholder](https://www.tensorflow.org/api_docs/python/tf/placeholder).\n",
    "\n",
    "These names will be used at the end of the project to load your saved model.\n",
    "\n",
    "Note: `None` for shapes in TensorFlow allow for a dynamic size."
   ]
  },
  {
   "cell_type": "code",
   "execution_count": 10,
   "metadata": {},
   "outputs": [
    {
     "name": "stdout",
     "output_type": "stream",
     "text": [
      "Image Input Tests Passed.\n",
      "Label Input Tests Passed.\n",
      "Keep Prob Tests Passed.\n"
     ]
    }
   ],
   "source": [
    "import tensorflow as tf\n",
    "\n",
    "def neural_net_image_input(image_shape):\n",
    "    \"\"\"\n",
    "    Return a Tensor for a batch of image input\n",
    "    : image_shape: Shape of the images\n",
    "    : return: Tensor for image input.\n",
    "    \"\"\"\n",
    "    return tf.placeholder(tf.float32, [None, *image_shape], name=\"x\")\n",
    "\n",
    "\n",
    "def neural_net_label_input(n_classes):\n",
    "    \"\"\"\n",
    "    Return a Tensor for a batch of label input\n",
    "    : n_classes: Number of classes\n",
    "    : return: Tensor for label input.\n",
    "    \"\"\"\n",
    "    return tf.placeholder(\"float\", [None, n_classes], name=\"y\")\n",
    "\n",
    "\n",
    "def neural_net_keep_prob_input():\n",
    "    \"\"\"\n",
    "    Return a Tensor for keep probability\n",
    "    : return: Tensor for keep probability.\n",
    "    \"\"\"\n",
    "    return tf.placeholder(\"float\", name=\"keep_prob\")\n",
    "\n",
    "\n",
    "\"\"\"\n",
    "DON'T MODIFY ANYTHING IN THIS CELL THAT IS BELOW THIS LINE\n",
    "\"\"\"\n",
    "tf.reset_default_graph()\n",
    "tests.test_nn_image_inputs(neural_net_image_input)\n",
    "tests.test_nn_label_inputs(neural_net_label_input)\n",
    "tests.test_nn_keep_prob_inputs(neural_net_keep_prob_input)"
   ]
  },
  {
   "cell_type": "markdown",
   "metadata": {},
   "source": [
    "### Convolution and Max Pooling Layer\n",
    "Convolution layers have a lot of success with images. For this code cell, you should implement the function `conv2d_maxpool` to apply convolution then max pooling:\n",
    "* Create the weight and bias using `conv_ksize`, `conv_num_outputs` and the shape of `x_tensor`.\n",
    "* Apply a convolution to `x_tensor` using weight and `conv_strides`.\n",
    " * We recommend you use same padding, but you're welcome to use any padding.\n",
    "* Add bias\n",
    "* Add a nonlinear activation to the convolution.\n",
    "* Apply Max Pooling using `pool_ksize` and `pool_strides`.\n",
    " * We recommend you use same padding, but you're welcome to use any padding.\n",
    "\n",
    "**Note:** You **can't** use [TensorFlow Layers](https://www.tensorflow.org/api_docs/python/tf/layers) or [TensorFlow Layers (contrib)](https://www.tensorflow.org/api_guides/python/contrib.layers) for **this** layer, but you can still use TensorFlow's [Neural Network](https://www.tensorflow.org/api_docs/python/tf/nn) package. You may still use the shortcut option for all the **other** layers."
   ]
  },
  {
   "cell_type": "code",
   "execution_count": 61,
   "metadata": {},
   "outputs": [
    {
     "name": "stdout",
     "output_type": "stream",
     "text": [
      "Tests Passed\n"
     ]
    }
   ],
   "source": [
    "def conv2d_maxpool(x_tensor, conv_num_outputs, conv_ksize, conv_strides, pool_ksize, pool_strides):\n",
    "    \"\"\"\n",
    "    Apply convolution then max pooling to x_tensor\n",
    "    :param x_tensor: TensorFlow Tensor\n",
    "    :param conv_num_outputs: Number of outputs for the convolutional layer\n",
    "    :param conv_ksize: kernal size 2-D Tuple for the convolutional layer\n",
    "    :param conv_strides: Stride 2-D Tuple for convolution\n",
    "    :param pool_ksize: kernal size 2-D Tuple for pool\n",
    "    :param pool_strides: Stride 2-D Tuple for pool\n",
    "    : return: A tensor that represents convolution and max pooling of x_tensor\n",
    "    \"\"\"\n",
    "    # TODO: Implement Function\n",
    "    input_depth = int(x_tensor.get_shape()[-1])\n",
    "    \n",
    "    filter_weights = tf.Variable(tf.truncated_normal([*conv_ksize, input_depth, conv_num_outputs], dtype=tf.float32))\n",
    "    filter_bias = tf.Variable(tf.constant(0, shape=[conv_num_outputs], dtype=tf.float32))\n",
    "\n",
    "    conv_layer = tf.nn.conv2d(input=x_tensor, filter=filter_weights, strides=[1, *conv_strides, 1], padding='SAME')\n",
    "    conv_layer = tf.nn.bias_add(value=conv_layer, bias=filter_bias)\n",
    "    conv_layer = tf.nn.relu(conv_layer)\n",
    "    conv_layer = tf.nn.max_pool(conv_layer, ksize=[1, *pool_ksize, 1], strides=[1, *pool_strides, 1], padding='SAME')\n",
    "    return conv_layer\n",
    "\n",
    "\n",
    "\"\"\"\n",
    "DON'T MODIFY ANYTHING IN THIS CELL THAT IS BELOW THIS LINE\n",
    "\"\"\"\n",
    "tests.test_con_pool(conv2d_maxpool)"
   ]
  },
  {
   "cell_type": "markdown",
   "metadata": {},
   "source": [
    "### Flatten Layer\n",
    "Implement the `flatten` function to change the dimension of `x_tensor` from a 4-D tensor to a 2-D tensor.  The output should be the shape (*Batch Size*, *Flattened Image Size*). Shortcut option: you can use classes from the [TensorFlow Layers](https://www.tensorflow.org/api_docs/python/tf/layers) or [TensorFlow Layers (contrib)](https://www.tensorflow.org/api_guides/python/contrib.layers) packages for this layer. For more of a challenge, only use other TensorFlow packages."
   ]
  },
  {
   "cell_type": "code",
   "execution_count": 63,
   "metadata": {},
   "outputs": [
    {
     "name": "stdout",
     "output_type": "stream",
     "text": [
      "Tests Passed\n"
     ]
    }
   ],
   "source": [
    "def flatten(x_tensor):\n",
    "    \"\"\"\n",
    "    Flatten x_tensor to (Batch Size, Flattened Image Size)\n",
    "    : x_tensor: A tensor of size (Batch Size, ...), where ... are the image dimensions.\n",
    "    : return: A tensor of size (Batch Size, Flattened Image Size).\n",
    "    \"\"\"\n",
    "    return tf.contrib.layers.flatten(x_tensor)\n",
    "\n",
    "\n",
    "\"\"\"\n",
    "DON'T MODIFY ANYTHING IN THIS CELL THAT IS BELOW THIS LINE\n",
    "\"\"\"\n",
    "tests.test_flatten(flatten)"
   ]
  },
  {
   "cell_type": "markdown",
   "metadata": {},
   "source": [
    "### Fully-Connected Layer\n",
    "Implement the `fully_conn` function to apply a fully connected layer to `x_tensor` with the shape (*Batch Size*, *num_outputs*). Shortcut option: you can use classes from the [TensorFlow Layers](https://www.tensorflow.org/api_docs/python/tf/layers) or [TensorFlow Layers (contrib)](https://www.tensorflow.org/api_guides/python/contrib.layers) packages for this layer. For more of a challenge, only use other TensorFlow packages."
   ]
  },
  {
   "cell_type": "code",
   "execution_count": 64,
   "metadata": {},
   "outputs": [
    {
     "name": "stdout",
     "output_type": "stream",
     "text": [
      "Tests Passed\n"
     ]
    }
   ],
   "source": [
    "def fully_conn(x_tensor, num_outputs):\n",
    "    \"\"\"\n",
    "    Apply a fully connected layer to x_tensor using weight and bias\n",
    "    : x_tensor: A 2-D tensor where the first dimension is batch size.\n",
    "    : num_outputs: The number of output that the new tensor should be.\n",
    "    : return: A 2-D tensor where the second dimension is num_outputs.\n",
    "    \"\"\"\n",
    "    return tf.contrib.layers.fully_connected(x_tensor, num_outputs)\n",
    "\n",
    "\n",
    "\"\"\"\n",
    "DON'T MODIFY ANYTHING IN THIS CELL THAT IS BELOW THIS LINE\n",
    "\"\"\"\n",
    "tests.test_fully_conn(fully_conn)"
   ]
  },
  {
   "cell_type": "markdown",
   "metadata": {},
   "source": [
    "### Output Layer\n",
    "Implement the `output` function to apply a fully connected layer to `x_tensor` with the shape (*Batch Size*, *num_outputs*). Shortcut option: you can use classes from the [TensorFlow Layers](https://www.tensorflow.org/api_docs/python/tf/layers) or [TensorFlow Layers (contrib)](https://www.tensorflow.org/api_guides/python/contrib.layers) packages for this layer. For more of a challenge, only use other TensorFlow packages.\n",
    "\n",
    "**Note:** Activation, softmax, or cross entropy should **not** be applied to this."
   ]
  },
  {
   "cell_type": "code",
   "execution_count": 65,
   "metadata": {},
   "outputs": [
    {
     "name": "stdout",
     "output_type": "stream",
     "text": [
      "Tests Passed\n"
     ]
    }
   ],
   "source": [
    "def output(x_tensor, num_outputs):\n",
    "    \"\"\"\n",
    "    Apply a output layer to x_tensor using weight and bias\n",
    "    : x_tensor: A 2-D tensor where the first dimension is batch size.\n",
    "    : num_outputs: The number of output that the new tensor should be.\n",
    "    : return: A 2-D tensor where the second dimension is num_outputs.\n",
    "    \"\"\"\n",
    "    return  tf.contrib.layers.fully_connected(x_tensor, num_outputs)\n",
    "\n",
    "\n",
    "\"\"\"\n",
    "DON'T MODIFY ANYTHING IN THIS CELL THAT IS BELOW THIS LINE\n",
    "\"\"\"\n",
    "tests.test_output(output)"
   ]
  },
  {
   "cell_type": "markdown",
   "metadata": {},
   "source": [
    "### Create Convolutional Model\n",
    "Implement the function `conv_net` to create a convolutional neural network model. The function takes in a batch of images, `x`, and outputs logits.  Use the layers you created above to create this model:\n",
    "\n",
    "* Apply 1, 2, or 3 Convolution and Max Pool layers\n",
    "* Apply a Flatten Layer\n",
    "* Apply 1, 2, or 3 Fully Connected Layers\n",
    "* Apply an Output Layer\n",
    "* Return the output\n",
    "* Apply [TensorFlow's Dropout](https://www.tensorflow.org/api_docs/python/tf/nn/dropout) to one or more layers in the model using `keep_prob`. "
   ]
  },
  {
   "cell_type": "code",
   "execution_count": 100,
   "metadata": {},
   "outputs": [
    {
     "name": "stdout",
     "output_type": "stream",
     "text": [
      "Neural Network Built!\n"
     ]
    }
   ],
   "source": [
    "def conv_net(x, keep_prob):\n",
    "    \"\"\"\n",
    "    Create a convolutional neural network model\n",
    "    : x: Placeholder tensor that holds image data.\n",
    "    : keep_prob: Placeholder tensor that hold dropout keep probability.\n",
    "    : return: Tensor that represents logits\n",
    "    \"\"\"\n",
    "    # TODO: Apply 1, 2, or 3 Convolution and Max Pool layers\n",
    "    #    Play around with different number of outputs, kernel size and stride\n",
    "    # Function Definition from Above:\n",
    "    #    conv2d_maxpool(x_tensor, conv_num_outputs, conv_ksize, conv_strides, pool_ksize, pool_strides)\n",
    "\n",
    "    conv_num_outputs = 10\n",
    "    conv_ksize = (2, 2)\n",
    "    conv_strides = (2, 2)\n",
    "    pool_ksize = (2, 2)\n",
    "    pool_strides = (2, 2)\n",
    "    num_outputs = 10\n",
    "    \n",
    "    conv2 = conv2d_maxpool(x, conv_num_outputs, conv_ksize, conv_strides, pool_ksize, pool_strides)\n",
    "    flat = flatten(conv2)\n",
    "    fullc = fully_conn(flat, 100)\n",
    "    fullc = tf.nn.dropout(fullc, keep_prob)\n",
    "    fullc = fully_conn(fullc, num_outputs)\n",
    "    outp = output(fullc, num_outputs)\n",
    "    return outp\n",
    "\n",
    "\n",
    "\"\"\"\n",
    "DON'T MODIFY ANYTHING IN THIS CELL THAT IS BELOW THIS LINE\n",
    "\"\"\"\n",
    "\n",
    "##############################\n",
    "## Build the Neural Network ##\n",
    "##############################\n",
    "\n",
    "# Remove previous weights, bias, inputs, etc..\n",
    "tf.reset_default_graph()\n",
    "\n",
    "# Inputs\n",
    "x = neural_net_image_input((32, 32, 3))\n",
    "y = neural_net_label_input(10)\n",
    "keep_prob = neural_net_keep_prob_input()\n",
    "\n",
    "# Model\n",
    "logits = conv_net(x, keep_prob)\n",
    "\n",
    "# Name logits Tensor, so that is can be loaded from disk after training\n",
    "logits = tf.identity(logits, name='logits')\n",
    "\n",
    "# Loss and Optimizer\n",
    "cost = tf.reduce_mean(tf.nn.softmax_cross_entropy_with_logits(logits=logits, labels=y))\n",
    "optimizer = tf.train.AdamOptimizer().minimize(cost)\n",
    "\n",
    "# Accuracy\n",
    "correct_pred = tf.equal(tf.argmax(logits, 1), tf.argmax(y, 1))\n",
    "accuracy = tf.reduce_mean(tf.cast(correct_pred, tf.float32), name='accuracy')\n",
    "\n",
    "tests.test_conv_net(conv_net)"
   ]
  },
  {
   "cell_type": "markdown",
   "metadata": {},
   "source": [
    "## Train the Neural Network\n",
    "### Single Optimization\n",
    "Implement the function `train_neural_network` to do a single optimization.  The optimization should use `optimizer` to optimize in `session` with a `feed_dict` of the following:\n",
    "* `x` for image input\n",
    "* `y` for labels\n",
    "* `keep_prob` for keep probability for dropout\n",
    "\n",
    "This function will be called for each batch, so `tf.global_variables_initializer()` has already been called.\n",
    "\n",
    "Note: Nothing needs to be returned. This function is only optimizing the neural network."
   ]
  },
  {
   "cell_type": "code",
   "execution_count": 101,
   "metadata": {},
   "outputs": [
    {
     "name": "stdout",
     "output_type": "stream",
     "text": [
      "Tests Passed\n"
     ]
    }
   ],
   "source": [
    "def train_neural_network(session, optimizer, keep_probability, feature_batch, label_batch):\n",
    "    \"\"\"\n",
    "    Optimize the session on a batch of images and labels\n",
    "    : session: Current TensorFlow session\n",
    "    : optimizer: TensorFlow optimizer function\n",
    "    : keep_probability: keep probability\n",
    "    : feature_batch: Batch of Numpy image data\n",
    "    : label_batch: Batch of Numpy label data\n",
    "    \"\"\"\n",
    "    session.run(optimizer, feed_dict={x: feature_batch, y: label_batch, keep_prob: keep_probability})\n",
    "    \n",
    "\n",
    "\n",
    "\"\"\"\n",
    "DON'T MODIFY ANYTHING IN THIS CELL THAT IS BELOW THIS LINE\n",
    "\"\"\"\n",
    "tests.test_train_nn(train_neural_network)"
   ]
  },
  {
   "cell_type": "markdown",
   "metadata": {},
   "source": [
    "### Show Stats\n",
    "Implement the function `print_stats` to print loss and validation accuracy.  Use the global variables `valid_features` and `valid_labels` to calculate validation accuracy.  Use a keep probability of `1.0` to calculate the loss and validation accuracy."
   ]
  },
  {
   "cell_type": "code",
   "execution_count": 102,
   "metadata": {
    "collapsed": true
   },
   "outputs": [],
   "source": [
    "def print_stats(session, feature_batch, label_batch, cost, accuracy):\n",
    "    \"\"\"\n",
    "    Print information about loss and validation accuracy\n",
    "    : session: Current TensorFlow session\n",
    "    : feature_batch: Batch of Numpy image data\n",
    "    : label_batch: Batch of Numpy label data\n",
    "    : cost: TensorFlow cost function\n",
    "    : accuracy: TensorFlow accuracy function\n",
    "    \"\"\"\n",
    "    loss = session.run(cost, feed_dict={x: feature_batch, y: label_batch, keep_prob: 1.0})\n",
    "    valid_acc = session.run(accuracy, feed_dict={x: valid_features, y: valid_labels, keep_prob: 1.0})\n",
    "    print('Loss: {:>10.4f} Accuracy: {:.6f}'.format(loss,valid_acc))\n",
    "    pass"
   ]
  },
  {
   "cell_type": "markdown",
   "metadata": {},
   "source": [
    "### Hyperparameters\n",
    "Tune the following parameters:\n",
    "* Set `epochs` to the number of iterations until the network stops learning or start overfitting\n",
    "* Set `batch_size` to the highest number that your machine has memory for.  Most people set them to common sizes of memory:\n",
    " * 64\n",
    " * 128\n",
    " * 256\n",
    " * ...\n",
    "* Set `keep_probability` to the probability of keeping a node using dropout"
   ]
  },
  {
   "cell_type": "code",
   "execution_count": 107,
   "metadata": {
    "collapsed": true
   },
   "outputs": [],
   "source": [
    "epochs = 50\n",
    "batch_size = 128\n",
    "keep_probability = .7"
   ]
  },
  {
   "cell_type": "markdown",
   "metadata": {},
   "source": [
    "### Train on a Single CIFAR-10 Batch\n",
    "Instead of training the neural network on all the CIFAR-10 batches of data, let's use a single batch. This should save time while you iterate on the model to get a better accuracy.  Once the final validation accuracy is 50% or greater, run the model on all the data in the next section."
   ]
  },
  {
   "cell_type": "code",
   "execution_count": 104,
   "metadata": {},
   "outputs": [
    {
     "name": "stdout",
     "output_type": "stream",
     "text": [
      "Checking the Training on a Single Batch...\n",
      "Epoch  1, CIFAR-10 Batch 1:  Loss:     2.2911 Accuracy: 0.162600\n",
      "Epoch  2, CIFAR-10 Batch 1:  Loss:     2.2783 Accuracy: 0.159200\n",
      "Epoch  3, CIFAR-10 Batch 1:  Loss:     2.2555 Accuracy: 0.168000\n",
      "Epoch  4, CIFAR-10 Batch 1:  Loss:     2.0734 Accuracy: 0.262800\n",
      "Epoch  5, CIFAR-10 Batch 1:  Loss:     1.9143 Accuracy: 0.361600\n",
      "Epoch  6, CIFAR-10 Batch 1:  Loss:     1.8717 Accuracy: 0.376600\n",
      "Epoch  7, CIFAR-10 Batch 1:  Loss:     1.7963 Accuracy: 0.402000\n",
      "Epoch  8, CIFAR-10 Batch 1:  Loss:     1.7459 Accuracy: 0.422600\n",
      "Epoch  9, CIFAR-10 Batch 1:  Loss:     1.7141 Accuracy: 0.426600\n",
      "Epoch 10, CIFAR-10 Batch 1:  Loss:     1.6292 Accuracy: 0.439000\n",
      "Epoch 11, CIFAR-10 Batch 1:  Loss:     1.6073 Accuracy: 0.450600\n",
      "Epoch 12, CIFAR-10 Batch 1:  Loss:     1.5478 Accuracy: 0.455200\n",
      "Epoch 13, CIFAR-10 Batch 1:  Loss:     1.4931 Accuracy: 0.460400\n",
      "Epoch 14, CIFAR-10 Batch 1:  Loss:     1.4630 Accuracy: 0.466400\n",
      "Epoch 15, CIFAR-10 Batch 1:  Loss:     1.4331 Accuracy: 0.462800\n",
      "Epoch 16, CIFAR-10 Batch 1:  Loss:     1.3929 Accuracy: 0.475200\n",
      "Epoch 17, CIFAR-10 Batch 1:  Loss:     1.3535 Accuracy: 0.481600\n",
      "Epoch 18, CIFAR-10 Batch 1:  Loss:     1.3214 Accuracy: 0.479000\n",
      "Epoch 19, CIFAR-10 Batch 1:  Loss:     1.2935 Accuracy: 0.488000\n",
      "Epoch 20, CIFAR-10 Batch 1:  Loss:     1.2852 Accuracy: 0.485200\n",
      "Epoch 21, CIFAR-10 Batch 1:  Loss:     1.2204 Accuracy: 0.490000\n",
      "Epoch 22, CIFAR-10 Batch 1:  Loss:     1.2024 Accuracy: 0.494200\n",
      "Epoch 23, CIFAR-10 Batch 1:  Loss:     1.1672 Accuracy: 0.500400\n",
      "Epoch 24, CIFAR-10 Batch 1:  Loss:     1.1058 Accuracy: 0.508600\n",
      "Epoch 25, CIFAR-10 Batch 1:  Loss:     1.0866 Accuracy: 0.502000\n",
      "Epoch 26, CIFAR-10 Batch 1:  Loss:     1.0555 Accuracy: 0.508200\n",
      "Epoch 27, CIFAR-10 Batch 1:  Loss:     1.0313 Accuracy: 0.507000\n",
      "Epoch 28, CIFAR-10 Batch 1:  Loss:     1.0010 Accuracy: 0.513800\n",
      "Epoch 29, CIFAR-10 Batch 1:  Loss:     0.9757 Accuracy: 0.515000\n",
      "Epoch 30, CIFAR-10 Batch 1:  Loss:     0.9406 Accuracy: 0.516600\n",
      "Epoch 31, CIFAR-10 Batch 1:  Loss:     0.9176 Accuracy: 0.521200\n",
      "Epoch 32, CIFAR-10 Batch 1:  Loss:     0.9440 Accuracy: 0.511600\n",
      "Epoch 33, CIFAR-10 Batch 1:  Loss:     0.8958 Accuracy: 0.516800\n",
      "Epoch 34, CIFAR-10 Batch 1:  Loss:     0.8280 Accuracy: 0.516000\n",
      "Epoch 35, CIFAR-10 Batch 1:  Loss:     0.8285 Accuracy: 0.513000\n",
      "Epoch 36, CIFAR-10 Batch 1:  Loss:     0.8025 Accuracy: 0.519200\n",
      "Epoch 37, CIFAR-10 Batch 1:  Loss:     0.8040 Accuracy: 0.516200\n",
      "Epoch 38, CIFAR-10 Batch 1:  Loss:     0.7519 Accuracy: 0.519600\n",
      "Epoch 39, CIFAR-10 Batch 1:  Loss:     0.7505 Accuracy: 0.518400\n",
      "Epoch 40, CIFAR-10 Batch 1:  Loss:     0.6861 Accuracy: 0.523200\n",
      "Epoch 41, CIFAR-10 Batch 1:  Loss:     0.6751 Accuracy: 0.522400\n",
      "Epoch 42, CIFAR-10 Batch 1:  Loss:     0.7100 Accuracy: 0.519000\n",
      "Epoch 43, CIFAR-10 Batch 1:  Loss:     0.6760 Accuracy: 0.519200\n",
      "Epoch 44, CIFAR-10 Batch 1:  Loss:     0.6672 Accuracy: 0.522400\n",
      "Epoch 45, CIFAR-10 Batch 1:  Loss:     0.6462 Accuracy: 0.520800\n",
      "Epoch 46, CIFAR-10 Batch 1:  Loss:     0.6466 Accuracy: 0.518200\n",
      "Epoch 47, CIFAR-10 Batch 1:  Loss:     0.6088 Accuracy: 0.522600\n",
      "Epoch 48, CIFAR-10 Batch 1:  Loss:     0.5911 Accuracy: 0.523600\n",
      "Epoch 49, CIFAR-10 Batch 1:  Loss:     0.5887 Accuracy: 0.527800\n",
      "Epoch 50, CIFAR-10 Batch 1:  Loss:     0.5817 Accuracy: 0.524600\n"
     ]
    }
   ],
   "source": [
    "\"\"\"\n",
    "DON'T MODIFY ANYTHING IN THIS CELL\n",
    "\"\"\"\n",
    "print('Checking the Training on a Single Batch...')\n",
    "with tf.Session() as sess:\n",
    "    # Initializing the variables\n",
    "    sess.run(tf.global_variables_initializer())\n",
    "    \n",
    "    # Training cycle\n",
    "    for epoch in range(epochs):\n",
    "        batch_i = 1\n",
    "        for batch_features, batch_labels in helper.load_preprocess_training_batch(batch_i, batch_size):\n",
    "            train_neural_network(sess, optimizer, keep_probability, batch_features, batch_labels)\n",
    "        print('Epoch {:>2}, CIFAR-10 Batch {}:  '.format(epoch + 1, batch_i), end='')\n",
    "        print_stats(sess, batch_features, batch_labels, cost, accuracy)"
   ]
  },
  {
   "cell_type": "markdown",
   "metadata": {},
   "source": [
    "### Fully Train the Model\n",
    "Now that you got a good accuracy with a single CIFAR-10 batch, try it with all five batches."
   ]
  },
  {
   "cell_type": "code",
   "execution_count": 105,
   "metadata": {},
   "outputs": [
    {
     "name": "stdout",
     "output_type": "stream",
     "text": [
      "Training...\n",
      "Epoch  1, CIFAR-10 Batch 1:  Loss:     2.2529 Accuracy: 0.187000\n",
      "Epoch  1, CIFAR-10 Batch 2:  Loss:     2.1379 Accuracy: 0.241000\n",
      "Epoch  1, CIFAR-10 Batch 3:  Loss:     2.0651 Accuracy: 0.281000\n",
      "Epoch  1, CIFAR-10 Batch 4:  Loss:     2.0634 Accuracy: 0.303200\n",
      "Epoch  1, CIFAR-10 Batch 5:  Loss:     2.0689 Accuracy: 0.332600\n",
      "Epoch  2, CIFAR-10 Batch 1:  Loss:     1.9729 Accuracy: 0.354400\n",
      "Epoch  2, CIFAR-10 Batch 2:  Loss:     1.8485 Accuracy: 0.361200\n",
      "Epoch  2, CIFAR-10 Batch 3:  Loss:     1.8326 Accuracy: 0.362000\n",
      "Epoch  2, CIFAR-10 Batch 4:  Loss:     1.7384 Accuracy: 0.380600\n",
      "Epoch  2, CIFAR-10 Batch 5:  Loss:     1.9257 Accuracy: 0.394000\n",
      "Epoch  3, CIFAR-10 Batch 1:  Loss:     1.8678 Accuracy: 0.401400\n",
      "Epoch  3, CIFAR-10 Batch 2:  Loss:     1.5994 Accuracy: 0.396400\n",
      "Epoch  3, CIFAR-10 Batch 3:  Loss:     1.6273 Accuracy: 0.409000\n",
      "Epoch  3, CIFAR-10 Batch 4:  Loss:     1.6044 Accuracy: 0.415000\n",
      "Epoch  3, CIFAR-10 Batch 5:  Loss:     1.7888 Accuracy: 0.422200\n",
      "Epoch  4, CIFAR-10 Batch 1:  Loss:     1.8007 Accuracy: 0.422200\n",
      "Epoch  4, CIFAR-10 Batch 2:  Loss:     1.4718 Accuracy: 0.429400\n",
      "Epoch  4, CIFAR-10 Batch 3:  Loss:     1.5488 Accuracy: 0.425400\n",
      "Epoch  4, CIFAR-10 Batch 4:  Loss:     1.5424 Accuracy: 0.441600\n",
      "Epoch  4, CIFAR-10 Batch 5:  Loss:     1.6936 Accuracy: 0.441600\n",
      "Epoch  5, CIFAR-10 Batch 1:  Loss:     1.6800 Accuracy: 0.441400\n",
      "Epoch  5, CIFAR-10 Batch 2:  Loss:     1.3445 Accuracy: 0.456400\n",
      "Epoch  5, CIFAR-10 Batch 3:  Loss:     1.4901 Accuracy: 0.451200\n",
      "Epoch  5, CIFAR-10 Batch 4:  Loss:     1.4511 Accuracy: 0.454400\n",
      "Epoch  5, CIFAR-10 Batch 5:  Loss:     1.6616 Accuracy: 0.467600\n",
      "Epoch  6, CIFAR-10 Batch 1:  Loss:     1.5712 Accuracy: 0.464000\n",
      "Epoch  6, CIFAR-10 Batch 2:  Loss:     1.2836 Accuracy: 0.462600\n",
      "Epoch  6, CIFAR-10 Batch 3:  Loss:     1.4356 Accuracy: 0.468400\n",
      "Epoch  6, CIFAR-10 Batch 4:  Loss:     1.4403 Accuracy: 0.470600\n",
      "Epoch  6, CIFAR-10 Batch 5:  Loss:     1.6259 Accuracy: 0.474200\n",
      "Epoch  7, CIFAR-10 Batch 1:  Loss:     1.4972 Accuracy: 0.475400\n",
      "Epoch  7, CIFAR-10 Batch 2:  Loss:     1.1997 Accuracy: 0.483800\n",
      "Epoch  7, CIFAR-10 Batch 3:  Loss:     1.3224 Accuracy: 0.482800\n",
      "Epoch  7, CIFAR-10 Batch 4:  Loss:     1.3608 Accuracy: 0.482600\n",
      "Epoch  7, CIFAR-10 Batch 5:  Loss:     1.5740 Accuracy: 0.485200\n",
      "Epoch  8, CIFAR-10 Batch 1:  Loss:     1.4538 Accuracy: 0.489000\n",
      "Epoch  8, CIFAR-10 Batch 2:  Loss:     1.1393 Accuracy: 0.480600\n",
      "Epoch  8, CIFAR-10 Batch 3:  Loss:     1.2929 Accuracy: 0.489000\n",
      "Epoch  8, CIFAR-10 Batch 4:  Loss:     1.2876 Accuracy: 0.492000\n",
      "Epoch  8, CIFAR-10 Batch 5:  Loss:     1.5435 Accuracy: 0.495800\n",
      "Epoch  9, CIFAR-10 Batch 1:  Loss:     1.4245 Accuracy: 0.496000\n",
      "Epoch  9, CIFAR-10 Batch 2:  Loss:     1.0905 Accuracy: 0.497600\n",
      "Epoch  9, CIFAR-10 Batch 3:  Loss:     1.1988 Accuracy: 0.494400\n",
      "Epoch  9, CIFAR-10 Batch 4:  Loss:     1.2437 Accuracy: 0.494000\n",
      "Epoch  9, CIFAR-10 Batch 5:  Loss:     1.5209 Accuracy: 0.499800\n",
      "Epoch 10, CIFAR-10 Batch 1:  Loss:     1.3906 Accuracy: 0.502600\n",
      "Epoch 10, CIFAR-10 Batch 2:  Loss:     1.0468 Accuracy: 0.494400\n",
      "Epoch 10, CIFAR-10 Batch 3:  Loss:     1.1206 Accuracy: 0.494200\n",
      "Epoch 10, CIFAR-10 Batch 4:  Loss:     1.2088 Accuracy: 0.501600\n",
      "Epoch 10, CIFAR-10 Batch 5:  Loss:     1.4945 Accuracy: 0.500200\n",
      "Epoch 11, CIFAR-10 Batch 1:  Loss:     1.3289 Accuracy: 0.502200\n",
      "Epoch 11, CIFAR-10 Batch 2:  Loss:     1.0423 Accuracy: 0.497000\n",
      "Epoch 11, CIFAR-10 Batch 3:  Loss:     1.0654 Accuracy: 0.501800\n",
      "Epoch 11, CIFAR-10 Batch 4:  Loss:     1.1537 Accuracy: 0.510200\n",
      "Epoch 11, CIFAR-10 Batch 5:  Loss:     1.4345 Accuracy: 0.506000\n",
      "Epoch 12, CIFAR-10 Batch 1:  Loss:     1.3049 Accuracy: 0.507000\n",
      "Epoch 12, CIFAR-10 Batch 2:  Loss:     0.9631 Accuracy: 0.502200\n",
      "Epoch 12, CIFAR-10 Batch 3:  Loss:     1.0265 Accuracy: 0.502000\n",
      "Epoch 12, CIFAR-10 Batch 4:  Loss:     1.1381 Accuracy: 0.508200\n",
      "Epoch 12, CIFAR-10 Batch 5:  Loss:     1.4062 Accuracy: 0.504000\n",
      "Epoch 13, CIFAR-10 Batch 1:  Loss:     1.3071 Accuracy: 0.507000\n",
      "Epoch 13, CIFAR-10 Batch 2:  Loss:     0.9165 Accuracy: 0.511200\n",
      "Epoch 13, CIFAR-10 Batch 3:  Loss:     1.0087 Accuracy: 0.505200\n",
      "Epoch 13, CIFAR-10 Batch 4:  Loss:     1.0946 Accuracy: 0.512600\n",
      "Epoch 13, CIFAR-10 Batch 5:  Loss:     1.3680 Accuracy: 0.504400\n",
      "Epoch 14, CIFAR-10 Batch 1:  Loss:     1.2821 Accuracy: 0.510600\n",
      "Epoch 14, CIFAR-10 Batch 2:  Loss:     0.9030 Accuracy: 0.507600\n",
      "Epoch 14, CIFAR-10 Batch 3:  Loss:     0.9976 Accuracy: 0.503400\n",
      "Epoch 14, CIFAR-10 Batch 4:  Loss:     1.0941 Accuracy: 0.514200\n",
      "Epoch 14, CIFAR-10 Batch 5:  Loss:     1.3451 Accuracy: 0.511800\n",
      "Epoch 15, CIFAR-10 Batch 1:  Loss:     1.2511 Accuracy: 0.510800\n",
      "Epoch 15, CIFAR-10 Batch 2:  Loss:     0.8766 Accuracy: 0.509800\n",
      "Epoch 15, CIFAR-10 Batch 3:  Loss:     0.9748 Accuracy: 0.511000\n",
      "Epoch 15, CIFAR-10 Batch 4:  Loss:     0.9956 Accuracy: 0.518400\n",
      "Epoch 15, CIFAR-10 Batch 5:  Loss:     1.2958 Accuracy: 0.517400\n",
      "Epoch 16, CIFAR-10 Batch 1:  Loss:     1.2171 Accuracy: 0.519400\n",
      "Epoch 16, CIFAR-10 Batch 2:  Loss:     0.8516 Accuracy: 0.511200\n",
      "Epoch 16, CIFAR-10 Batch 3:  Loss:     0.9343 Accuracy: 0.507800\n",
      "Epoch 16, CIFAR-10 Batch 4:  Loss:     0.9586 Accuracy: 0.518400\n",
      "Epoch 16, CIFAR-10 Batch 5:  Loss:     1.2876 Accuracy: 0.522000\n",
      "Epoch 17, CIFAR-10 Batch 1:  Loss:     1.1841 Accuracy: 0.515200\n",
      "Epoch 17, CIFAR-10 Batch 2:  Loss:     0.8539 Accuracy: 0.513400\n",
      "Epoch 17, CIFAR-10 Batch 3:  Loss:     0.8958 Accuracy: 0.516600\n",
      "Epoch 17, CIFAR-10 Batch 4:  Loss:     0.9272 Accuracy: 0.521000\n",
      "Epoch 17, CIFAR-10 Batch 5:  Loss:     1.2463 Accuracy: 0.523000\n",
      "Epoch 18, CIFAR-10 Batch 1:  Loss:     1.1587 Accuracy: 0.516800\n",
      "Epoch 18, CIFAR-10 Batch 2:  Loss:     0.8366 Accuracy: 0.516200\n",
      "Epoch 18, CIFAR-10 Batch 3:  Loss:     0.8949 Accuracy: 0.521600\n",
      "Epoch 18, CIFAR-10 Batch 4:  Loss:     0.8973 Accuracy: 0.520600\n",
      "Epoch 18, CIFAR-10 Batch 5:  Loss:     1.1968 Accuracy: 0.524000\n",
      "Epoch 19, CIFAR-10 Batch 1:  Loss:     1.1868 Accuracy: 0.515800\n",
      "Epoch 19, CIFAR-10 Batch 2:  Loss:     0.7932 Accuracy: 0.513200\n",
      "Epoch 19, CIFAR-10 Batch 3:  Loss:     0.8713 Accuracy: 0.520400\n",
      "Epoch 19, CIFAR-10 Batch 4:  Loss:     0.8772 Accuracy: 0.519400\n",
      "Epoch 19, CIFAR-10 Batch 5:  Loss:     1.1901 Accuracy: 0.519400\n",
      "Epoch 20, CIFAR-10 Batch 1:  Loss:     1.1239 Accuracy: 0.519000\n",
      "Epoch 20, CIFAR-10 Batch 2:  Loss:     0.7602 Accuracy: 0.512000\n",
      "Epoch 20, CIFAR-10 Batch 3:  Loss:     0.8647 Accuracy: 0.515800\n",
      "Epoch 20, CIFAR-10 Batch 4:  Loss:     0.8120 Accuracy: 0.523800\n",
      "Epoch 20, CIFAR-10 Batch 5:  Loss:     1.1713 Accuracy: 0.523400\n",
      "Epoch 21, CIFAR-10 Batch 1:  Loss:     1.1458 Accuracy: 0.520800\n",
      "Epoch 21, CIFAR-10 Batch 2:  Loss:     0.7765 Accuracy: 0.515200\n",
      "Epoch 21, CIFAR-10 Batch 3:  Loss:     0.8523 Accuracy: 0.517800\n",
      "Epoch 21, CIFAR-10 Batch 4:  Loss:     0.8305 Accuracy: 0.529800\n",
      "Epoch 21, CIFAR-10 Batch 5:  Loss:     1.1042 Accuracy: 0.523000\n",
      "Epoch 22, CIFAR-10 Batch 1:  Loss:     1.1284 Accuracy: 0.518800\n",
      "Epoch 22, CIFAR-10 Batch 2:  Loss:     0.7715 Accuracy: 0.515800\n",
      "Epoch 22, CIFAR-10 Batch 3:  Loss:     0.8267 Accuracy: 0.519800\n",
      "Epoch 22, CIFAR-10 Batch 4:  Loss:     0.8075 Accuracy: 0.527400\n",
      "Epoch 22, CIFAR-10 Batch 5:  Loss:     1.1248 Accuracy: 0.522800\n",
      "Epoch 23, CIFAR-10 Batch 1:  Loss:     1.0746 Accuracy: 0.521200\n",
      "Epoch 23, CIFAR-10 Batch 2:  Loss:     0.7432 Accuracy: 0.515800\n",
      "Epoch 23, CIFAR-10 Batch 3:  Loss:     0.8293 Accuracy: 0.522000\n",
      "Epoch 23, CIFAR-10 Batch 4:  Loss:     0.7810 Accuracy: 0.526800\n",
      "Epoch 23, CIFAR-10 Batch 5:  Loss:     1.0903 Accuracy: 0.527200\n",
      "Epoch 24, CIFAR-10 Batch 1:  Loss:     1.1031 Accuracy: 0.518600\n",
      "Epoch 24, CIFAR-10 Batch 2:  Loss:     0.6913 Accuracy: 0.520000\n",
      "Epoch 24, CIFAR-10 Batch 3:  Loss:     0.7983 Accuracy: 0.520600\n",
      "Epoch 24, CIFAR-10 Batch 4:  Loss:     0.7644 Accuracy: 0.530000\n",
      "Epoch 24, CIFAR-10 Batch 5:  Loss:     1.0630 Accuracy: 0.524200\n",
      "Epoch 25, CIFAR-10 Batch 1:  Loss:     1.0950 Accuracy: 0.519200\n",
      "Epoch 25, CIFAR-10 Batch 2:  Loss:     0.7112 Accuracy: 0.521200\n",
      "Epoch 25, CIFAR-10 Batch 3:  Loss:     0.7743 Accuracy: 0.523600\n",
      "Epoch 25, CIFAR-10 Batch 4:  Loss:     0.7452 Accuracy: 0.530800\n",
      "Epoch 25, CIFAR-10 Batch 5:  Loss:     1.0398 Accuracy: 0.529200\n",
      "Epoch 26, CIFAR-10 Batch 1:  Loss:     1.0519 Accuracy: 0.522200\n"
     ]
    },
    {
     "name": "stdout",
     "output_type": "stream",
     "text": [
      "Epoch 26, CIFAR-10 Batch 2:  Loss:     0.6793 Accuracy: 0.521800\n",
      "Epoch 26, CIFAR-10 Batch 3:  Loss:     0.7752 Accuracy: 0.526800\n",
      "Epoch 26, CIFAR-10 Batch 4:  Loss:     0.7292 Accuracy: 0.530200\n",
      "Epoch 26, CIFAR-10 Batch 5:  Loss:     1.0312 Accuracy: 0.530400\n",
      "Epoch 27, CIFAR-10 Batch 1:  Loss:     1.0437 Accuracy: 0.527600\n",
      "Epoch 27, CIFAR-10 Batch 2:  Loss:     0.7024 Accuracy: 0.529400\n",
      "Epoch 27, CIFAR-10 Batch 3:  Loss:     0.7558 Accuracy: 0.526800\n",
      "Epoch 27, CIFAR-10 Batch 4:  Loss:     0.7120 Accuracy: 0.530600\n",
      "Epoch 27, CIFAR-10 Batch 5:  Loss:     1.0299 Accuracy: 0.528600\n",
      "Epoch 28, CIFAR-10 Batch 1:  Loss:     1.0205 Accuracy: 0.524000\n",
      "Epoch 28, CIFAR-10 Batch 2:  Loss:     0.6622 Accuracy: 0.522800\n",
      "Epoch 28, CIFAR-10 Batch 3:  Loss:     0.7821 Accuracy: 0.525600\n",
      "Epoch 28, CIFAR-10 Batch 4:  Loss:     0.6829 Accuracy: 0.532000\n",
      "Epoch 28, CIFAR-10 Batch 5:  Loss:     1.0171 Accuracy: 0.533200\n",
      "Epoch 29, CIFAR-10 Batch 1:  Loss:     1.0067 Accuracy: 0.524800\n",
      "Epoch 29, CIFAR-10 Batch 2:  Loss:     0.6882 Accuracy: 0.526800\n",
      "Epoch 29, CIFAR-10 Batch 3:  Loss:     0.7761 Accuracy: 0.525600\n",
      "Epoch 29, CIFAR-10 Batch 4:  Loss:     0.6646 Accuracy: 0.527800\n",
      "Epoch 29, CIFAR-10 Batch 5:  Loss:     0.9904 Accuracy: 0.531200\n",
      "Epoch 30, CIFAR-10 Batch 1:  Loss:     0.9873 Accuracy: 0.521600\n",
      "Epoch 30, CIFAR-10 Batch 2:  Loss:     0.6355 Accuracy: 0.531600\n",
      "Epoch 30, CIFAR-10 Batch 3:  Loss:     0.7486 Accuracy: 0.521000\n",
      "Epoch 30, CIFAR-10 Batch 4:  Loss:     0.6941 Accuracy: 0.528400\n",
      "Epoch 30, CIFAR-10 Batch 5:  Loss:     0.9759 Accuracy: 0.533800\n",
      "Epoch 31, CIFAR-10 Batch 1:  Loss:     0.9717 Accuracy: 0.523400\n",
      "Epoch 31, CIFAR-10 Batch 2:  Loss:     0.6504 Accuracy: 0.532400\n",
      "Epoch 31, CIFAR-10 Batch 3:  Loss:     0.7480 Accuracy: 0.522400\n",
      "Epoch 31, CIFAR-10 Batch 4:  Loss:     0.6680 Accuracy: 0.528800\n",
      "Epoch 31, CIFAR-10 Batch 5:  Loss:     0.9489 Accuracy: 0.527600\n",
      "Epoch 32, CIFAR-10 Batch 1:  Loss:     0.9849 Accuracy: 0.521200\n",
      "Epoch 32, CIFAR-10 Batch 2:  Loss:     0.6149 Accuracy: 0.533200\n",
      "Epoch 32, CIFAR-10 Batch 3:  Loss:     0.6945 Accuracy: 0.520600\n",
      "Epoch 32, CIFAR-10 Batch 4:  Loss:     0.6559 Accuracy: 0.531600\n",
      "Epoch 32, CIFAR-10 Batch 5:  Loss:     0.9404 Accuracy: 0.527400\n",
      "Epoch 33, CIFAR-10 Batch 1:  Loss:     0.9713 Accuracy: 0.517200\n",
      "Epoch 33, CIFAR-10 Batch 2:  Loss:     0.6436 Accuracy: 0.530200\n",
      "Epoch 33, CIFAR-10 Batch 3:  Loss:     0.7230 Accuracy: 0.520200\n",
      "Epoch 33, CIFAR-10 Batch 4:  Loss:     0.6292 Accuracy: 0.527000\n",
      "Epoch 33, CIFAR-10 Batch 5:  Loss:     0.9085 Accuracy: 0.533200\n",
      "Epoch 34, CIFAR-10 Batch 1:  Loss:     0.9687 Accuracy: 0.529200\n",
      "Epoch 34, CIFAR-10 Batch 2:  Loss:     0.6256 Accuracy: 0.528400\n",
      "Epoch 34, CIFAR-10 Batch 3:  Loss:     0.7005 Accuracy: 0.523800\n",
      "Epoch 34, CIFAR-10 Batch 4:  Loss:     0.5984 Accuracy: 0.532800\n",
      "Epoch 34, CIFAR-10 Batch 5:  Loss:     0.9345 Accuracy: 0.534200\n",
      "Epoch 35, CIFAR-10 Batch 1:  Loss:     0.9346 Accuracy: 0.528800\n",
      "Epoch 35, CIFAR-10 Batch 2:  Loss:     0.6084 Accuracy: 0.526800\n",
      "Epoch 35, CIFAR-10 Batch 3:  Loss:     0.7078 Accuracy: 0.523000\n",
      "Epoch 35, CIFAR-10 Batch 4:  Loss:     0.6160 Accuracy: 0.536400\n",
      "Epoch 35, CIFAR-10 Batch 5:  Loss:     0.9549 Accuracy: 0.532600\n",
      "Epoch 36, CIFAR-10 Batch 1:  Loss:     0.9672 Accuracy: 0.526000\n",
      "Epoch 36, CIFAR-10 Batch 2:  Loss:     0.5904 Accuracy: 0.532400\n",
      "Epoch 36, CIFAR-10 Batch 3:  Loss:     0.6972 Accuracy: 0.528000\n",
      "Epoch 36, CIFAR-10 Batch 4:  Loss:     0.6266 Accuracy: 0.529800\n",
      "Epoch 36, CIFAR-10 Batch 5:  Loss:     0.9170 Accuracy: 0.535200\n",
      "Epoch 37, CIFAR-10 Batch 1:  Loss:     0.9315 Accuracy: 0.524400\n",
      "Epoch 37, CIFAR-10 Batch 2:  Loss:     0.5962 Accuracy: 0.527600\n",
      "Epoch 37, CIFAR-10 Batch 3:  Loss:     0.6672 Accuracy: 0.519800\n",
      "Epoch 37, CIFAR-10 Batch 4:  Loss:     0.5719 Accuracy: 0.534000\n",
      "Epoch 37, CIFAR-10 Batch 5:  Loss:     0.9126 Accuracy: 0.531000\n",
      "Epoch 38, CIFAR-10 Batch 1:  Loss:     0.9614 Accuracy: 0.527800\n",
      "Epoch 38, CIFAR-10 Batch 2:  Loss:     0.5644 Accuracy: 0.529600\n",
      "Epoch 38, CIFAR-10 Batch 3:  Loss:     0.6432 Accuracy: 0.528200\n",
      "Epoch 38, CIFAR-10 Batch 4:  Loss:     0.5835 Accuracy: 0.530200\n",
      "Epoch 38, CIFAR-10 Batch 5:  Loss:     0.9069 Accuracy: 0.531000\n",
      "Epoch 39, CIFAR-10 Batch 1:  Loss:     0.9451 Accuracy: 0.523400\n",
      "Epoch 39, CIFAR-10 Batch 2:  Loss:     0.5396 Accuracy: 0.527000\n",
      "Epoch 39, CIFAR-10 Batch 3:  Loss:     0.6384 Accuracy: 0.523600\n",
      "Epoch 39, CIFAR-10 Batch 4:  Loss:     0.5474 Accuracy: 0.532400\n",
      "Epoch 39, CIFAR-10 Batch 5:  Loss:     0.9265 Accuracy: 0.531200\n",
      "Epoch 40, CIFAR-10 Batch 1:  Loss:     0.9358 Accuracy: 0.526600\n",
      "Epoch 40, CIFAR-10 Batch 2:  Loss:     0.5530 Accuracy: 0.525400\n",
      "Epoch 40, CIFAR-10 Batch 3:  Loss:     0.6407 Accuracy: 0.521400\n",
      "Epoch 40, CIFAR-10 Batch 4:  Loss:     0.5619 Accuracy: 0.531200\n",
      "Epoch 40, CIFAR-10 Batch 5:  Loss:     0.8858 Accuracy: 0.529400\n",
      "Epoch 41, CIFAR-10 Batch 1:  Loss:     0.9267 Accuracy: 0.527400\n",
      "Epoch 41, CIFAR-10 Batch 2:  Loss:     0.5397 Accuracy: 0.528600\n",
      "Epoch 41, CIFAR-10 Batch 3:  Loss:     0.6391 Accuracy: 0.528600\n",
      "Epoch 41, CIFAR-10 Batch 4:  Loss:     0.5412 Accuracy: 0.530800\n",
      "Epoch 41, CIFAR-10 Batch 5:  Loss:     0.8522 Accuracy: 0.530200\n",
      "Epoch 42, CIFAR-10 Batch 1:  Loss:     0.9113 Accuracy: 0.526000\n",
      "Epoch 42, CIFAR-10 Batch 2:  Loss:     0.5285 Accuracy: 0.527800\n",
      "Epoch 42, CIFAR-10 Batch 3:  Loss:     0.6330 Accuracy: 0.528600\n",
      "Epoch 42, CIFAR-10 Batch 4:  Loss:     0.5429 Accuracy: 0.533400\n",
      "Epoch 42, CIFAR-10 Batch 5:  Loss:     0.8549 Accuracy: 0.525600\n",
      "Epoch 43, CIFAR-10 Batch 1:  Loss:     0.8748 Accuracy: 0.530600\n",
      "Epoch 43, CIFAR-10 Batch 2:  Loss:     0.5390 Accuracy: 0.526800\n",
      "Epoch 43, CIFAR-10 Batch 3:  Loss:     0.6170 Accuracy: 0.527200\n",
      "Epoch 43, CIFAR-10 Batch 4:  Loss:     0.5790 Accuracy: 0.530600\n",
      "Epoch 43, CIFAR-10 Batch 5:  Loss:     0.8372 Accuracy: 0.531000\n",
      "Epoch 44, CIFAR-10 Batch 1:  Loss:     0.8814 Accuracy: 0.524000\n",
      "Epoch 44, CIFAR-10 Batch 2:  Loss:     0.5190 Accuracy: 0.524400\n",
      "Epoch 44, CIFAR-10 Batch 3:  Loss:     0.5930 Accuracy: 0.528800\n",
      "Epoch 44, CIFAR-10 Batch 4:  Loss:     0.5228 Accuracy: 0.531400\n",
      "Epoch 44, CIFAR-10 Batch 5:  Loss:     0.8626 Accuracy: 0.529400\n",
      "Epoch 45, CIFAR-10 Batch 1:  Loss:     0.8702 Accuracy: 0.521800\n",
      "Epoch 45, CIFAR-10 Batch 2:  Loss:     0.5162 Accuracy: 0.526800\n",
      "Epoch 45, CIFAR-10 Batch 3:  Loss:     0.6282 Accuracy: 0.521200\n",
      "Epoch 45, CIFAR-10 Batch 4:  Loss:     0.5148 Accuracy: 0.530600\n",
      "Epoch 45, CIFAR-10 Batch 5:  Loss:     0.8384 Accuracy: 0.530400\n",
      "Epoch 46, CIFAR-10 Batch 1:  Loss:     0.9120 Accuracy: 0.524200\n",
      "Epoch 46, CIFAR-10 Batch 2:  Loss:     0.5201 Accuracy: 0.525000\n",
      "Epoch 46, CIFAR-10 Batch 3:  Loss:     0.5998 Accuracy: 0.525800\n",
      "Epoch 46, CIFAR-10 Batch 4:  Loss:     0.5356 Accuracy: 0.533800\n",
      "Epoch 46, CIFAR-10 Batch 5:  Loss:     0.8155 Accuracy: 0.536600\n",
      "Epoch 47, CIFAR-10 Batch 1:  Loss:     0.8689 Accuracy: 0.521400\n",
      "Epoch 47, CIFAR-10 Batch 2:  Loss:     0.5104 Accuracy: 0.523000\n",
      "Epoch 47, CIFAR-10 Batch 3:  Loss:     0.6026 Accuracy: 0.524200\n",
      "Epoch 47, CIFAR-10 Batch 4:  Loss:     0.5067 Accuracy: 0.533400\n",
      "Epoch 47, CIFAR-10 Batch 5:  Loss:     0.8393 Accuracy: 0.525400\n",
      "Epoch 48, CIFAR-10 Batch 1:  Loss:     0.8712 Accuracy: 0.521600\n",
      "Epoch 48, CIFAR-10 Batch 2:  Loss:     0.5293 Accuracy: 0.527800\n",
      "Epoch 48, CIFAR-10 Batch 3:  Loss:     0.5898 Accuracy: 0.526000\n",
      "Epoch 48, CIFAR-10 Batch 4:  Loss:     0.5101 Accuracy: 0.525600\n",
      "Epoch 48, CIFAR-10 Batch 5:  Loss:     0.8091 Accuracy: 0.528200\n",
      "Epoch 49, CIFAR-10 Batch 1:  Loss:     0.8505 Accuracy: 0.526200\n",
      "Epoch 49, CIFAR-10 Batch 2:  Loss:     0.5172 Accuracy: 0.525800\n",
      "Epoch 49, CIFAR-10 Batch 3:  Loss:     0.5804 Accuracy: 0.523600\n",
      "Epoch 49, CIFAR-10 Batch 4:  Loss:     0.5014 Accuracy: 0.530400\n",
      "Epoch 49, CIFAR-10 Batch 5:  Loss:     0.7939 Accuracy: 0.529000\n",
      "Epoch 50, CIFAR-10 Batch 1:  Loss:     0.8500 Accuracy: 0.526600\n",
      "Epoch 50, CIFAR-10 Batch 2:  Loss:     0.5133 Accuracy: 0.525400\n",
      "Epoch 50, CIFAR-10 Batch 3:  Loss:     0.5682 Accuracy: 0.523600\n",
      "Epoch 50, CIFAR-10 Batch 4:  Loss:     0.4612 Accuracy: 0.531600\n",
      "Epoch 50, CIFAR-10 Batch 5:  Loss:     0.7867 Accuracy: 0.525400\n"
     ]
    }
   ],
   "source": [
    "\"\"\"\n",
    "DON'T MODIFY ANYTHING IN THIS CELL\n",
    "\"\"\"\n",
    "save_model_path = './image_classification'\n",
    "\n",
    "print('Training...')\n",
    "with tf.Session() as sess:\n",
    "    # Initializing the variables\n",
    "    sess.run(tf.global_variables_initializer())\n",
    "    \n",
    "    # Training cycle\n",
    "    for epoch in range(epochs):\n",
    "        # Loop over all batches\n",
    "        n_batches = 5\n",
    "        for batch_i in range(1, n_batches + 1):\n",
    "            for batch_features, batch_labels in helper.load_preprocess_training_batch(batch_i, batch_size):\n",
    "                train_neural_network(sess, optimizer, keep_probability, batch_features, batch_labels)\n",
    "            print('Epoch {:>2}, CIFAR-10 Batch {}:  '.format(epoch + 1, batch_i), end='')\n",
    "            print_stats(sess, batch_features, batch_labels, cost, accuracy)\n",
    "            \n",
    "    # Save Model\n",
    "    saver = tf.train.Saver()\n",
    "    save_path = saver.save(sess, save_model_path)"
   ]
  },
  {
   "cell_type": "markdown",
   "metadata": {},
   "source": [
    "# Checkpoint\n",
    "The model has been saved to disk.\n",
    "## Test Model\n",
    "Test your model against the test dataset.  This will be your final accuracy. You should have an accuracy greater than 50%. If you don't, keep tweaking the model architecture and parameters."
   ]
  },
  {
   "cell_type": "code",
   "execution_count": 106,
   "metadata": {},
   "outputs": [
    {
     "name": "stdout",
     "output_type": "stream",
     "text": [
      "INFO:tensorflow:Restoring parameters from ./image_classification\n",
      "Testing Accuracy: 0.5330300632911392\n",
      "\n"
     ]
    },
    {
     "data": {
      "image/png": "[encoded data removed]",
      "text/plain": [
       "<matplotlib.figure.Figure at 0x12ba1afd0>"
      ]
     },
     "metadata": {
      "image/png": {
       "height": 319,
       "width": 355
      }
     },
     "output_type": "display_data"
    }
   ],
   "source": [
    "\"\"\"\n",
    "DON'T MODIFY ANYTHING IN THIS CELL\n",
    "\"\"\"\n",
    "%matplotlib inline\n",
    "%config InlineBackend.figure_format = 'retina'\n",
    "\n",
    "import tensorflow as tf\n",
    "import pickle\n",
    "import helper\n",
    "import random\n",
    "\n",
    "# Set batch size if not already set\n",
    "try:\n",
    "    if batch_size:\n",
    "        pass\n",
    "except NameError:\n",
    "    batch_size = 64\n",
    "\n",
    "save_model_path = './image_classification'\n",
    "n_samples = 4\n",
    "top_n_predictions = 3\n",
    "\n",
    "def test_model():\n",
    "    \"\"\"\n",
    "    Test the saved model against the test dataset\n",
    "    \"\"\"\n",
    "\n",
    "    test_features, test_labels = pickle.load(open('preprocess_test.p', mode='rb'))\n",
    "    loaded_graph = tf.Graph()\n",
    "\n",
    "    with tf.Session(graph=loaded_graph) as sess:\n",
    "        # Load model\n",
    "        loader = tf.train.import_meta_graph(save_model_path + '.meta')\n",
    "        loader.restore(sess, save_model_path)\n",
    "\n",
    "        # Get Tensors from loaded model\n",
    "        loaded_x = loaded_graph.get_tensor_by_name('x:0')\n",
    "        loaded_y = loaded_graph.get_tensor_by_name('y:0')\n",
    "        loaded_keep_prob = loaded_graph.get_tensor_by_name('keep_prob:0')\n",
    "        loaded_logits = loaded_graph.get_tensor_by_name('logits:0')\n",
    "        loaded_acc = loaded_graph.get_tensor_by_name('accuracy:0')\n",
    "        \n",
    "        # Get accuracy in batches for memory limitations\n",
    "        test_batch_acc_total = 0\n",
    "        test_batch_count = 0\n",
    "        \n",
    "        for test_feature_batch, test_label_batch in helper.batch_features_labels(test_features, test_labels, batch_size):\n",
    "            test_batch_acc_total += sess.run(\n",
    "                loaded_acc,\n",
    "                feed_dict={loaded_x: test_feature_batch, loaded_y: test_label_batch, loaded_keep_prob: 1.0})\n",
    "            test_batch_count += 1\n",
    "\n",
    "        print('Testing Accuracy: {}\\n'.format(test_batch_acc_total/test_batch_count))\n",
    "\n",
    "        # Print Random Samples\n",
    "        random_test_features, random_test_labels = tuple(zip(*random.sample(list(zip(test_features, test_labels)), n_samples)))\n",
    "        random_test_predictions = sess.run(\n",
    "            tf.nn.top_k(tf.nn.softmax(loaded_logits), top_n_predictions),\n",
    "            feed_dict={loaded_x: random_test_features, loaded_y: random_test_labels, loaded_keep_prob: 1.0})\n",
    "        helper.display_image_predictions(random_test_features, random_test_labels, random_test_predictions)\n",
    "\n",
    "\n",
    "test_model()"
   ]
  },
  {
   "cell_type": "markdown",
   "metadata": {},
   "source": [
    "## Why 50-80% Accuracy?\n",
    "You might be wondering why you can't get an accuracy any higher. First things first, 50% isn't bad for a simple CNN.  Pure guessing would get you 10% accuracy. However, you might notice people are getting scores [well above 80%](http://rodrigob.github.io/are_we_there_yet/build/classification_datasets_results.html#43494641522d3130).  That's because we haven't taught you all there is to know about neural networks. We still need to cover a few more techniques.\n",
    "## Submitting This Project\n",
    "When submitting this project, make sure to run all the cells before saving the notebook.  Save the notebook file as \"dlnd_image_classification.ipynb\" and save it as a HTML file under \"File\" -> \"Download as\".  Include the \"helper.py\" and \"problem_unittests.py\" files in your submission."
   ]
  }
 ],
 "metadata": {
  "kernelspec": {
   "display_name": "Python 3",
   "language": "python",
   "name": "python3"
  },
  "language_info": {
   "codemirror_mode": {
    "name": "ipython",
    "version": 3
   },
   "file_extension": ".py",
   "mimetype": "text/x-python",
   "name": "python",
   "nbconvert_exporter": "python",
   "pygments_lexer": "ipython3",
   "version": "3.5.3"
  }
 },
 "nbformat": 4,
 "nbformat_minor": 1
}
